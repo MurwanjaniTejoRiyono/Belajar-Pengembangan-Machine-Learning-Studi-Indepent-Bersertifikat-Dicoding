{
  "nbformat": 4,
  "nbformat_minor": 0,
  "metadata": {
    "colab": {
      "name": "Murwanjani Tejo Riyono-Image Classification Model Deployment-Done.ipynb",
      "provenance": [],
      "collapsed_sections": []
    },
    "kernelspec": {
      "name": "python3",
      "display_name": "Python 3"
    },
    "language_info": {
      "name": "python"
    },
    "accelerator": "GPU"
  },
  "cells": [
    {
      "cell_type": "code",
      "metadata": {
        "colab": {
          "base_uri": "https://localhost:8080/"
        },
        "id": "ypSqGFSnGfL7",
        "outputId": "dec2a5ac-7124-4977-9a67-6abd94316c84"
      },
      "source": [
        "#Data Diri\n",
        "print ('Nama         : Murwanjani Tejo Riyono')\n",
        "print ('Kelas        : MLFE M1')\n",
        "print ('Proyek Akhir : Image Classification Model Deployment')"
      ],
      "execution_count": 1,
      "outputs": [
        {
          "output_type": "stream",
          "name": "stdout",
          "text": [
            "Nama         : Murwanjani Tejo Riyono\n",
            "Kelas        : MLFE M1\n",
            "Proyek Akhir : Image Classification Model Deployment\n"
          ]
        }
      ]
    },
    {
      "cell_type": "code",
      "metadata": {
        "id": "X23687YzHwAb"
      },
      "source": [
        "#Import Library\n",
        "import tensorflow as tf\n",
        "from tensorflow.keras.optimizers import RMSprop\n",
        "from tensorflow.keras.preprocessing.image import ImageDataGenerator"
      ],
      "execution_count": 2,
      "outputs": []
    },
    {
      "cell_type": "code",
      "metadata": {
        "colab": {
          "resources": {
            "http://localhost:8080/nbextensions/google.colab/files.js": {
              "data": "Ly8gQ29weXJpZ2h0IDIwMTcgR29vZ2xlIExMQwovLwovLyBMaWNlbnNlZCB1bmRlciB0aGUgQXBhY2hlIExpY2Vuc2UsIFZlcnNpb24gMi4wICh0aGUgIkxpY2Vuc2UiKTsKLy8geW91IG1heSBub3QgdXNlIHRoaXMgZmlsZSBleGNlcHQgaW4gY29tcGxpYW5jZSB3aXRoIHRoZSBMaWNlbnNlLgovLyBZb3UgbWF5IG9idGFpbiBhIGNvcHkgb2YgdGhlIExpY2Vuc2UgYXQKLy8KLy8gICAgICBodHRwOi8vd3d3LmFwYWNoZS5vcmcvbGljZW5zZXMvTElDRU5TRS0yLjAKLy8KLy8gVW5sZXNzIHJlcXVpcmVkIGJ5IGFwcGxpY2FibGUgbGF3IG9yIGFncmVlZCB0byBpbiB3cml0aW5nLCBzb2Z0d2FyZQovLyBkaXN0cmlidXRlZCB1bmRlciB0aGUgTGljZW5zZSBpcyBkaXN0cmlidXRlZCBvbiBhbiAiQVMgSVMiIEJBU0lTLAovLyBXSVRIT1VUIFdBUlJBTlRJRVMgT1IgQ09ORElUSU9OUyBPRiBBTlkgS0lORCwgZWl0aGVyIGV4cHJlc3Mgb3IgaW1wbGllZC4KLy8gU2VlIHRoZSBMaWNlbnNlIGZvciB0aGUgc3BlY2lmaWMgbGFuZ3VhZ2UgZ292ZXJuaW5nIHBlcm1pc3Npb25zIGFuZAovLyBsaW1pdGF0aW9ucyB1bmRlciB0aGUgTGljZW5zZS4KCi8qKgogKiBAZmlsZW92ZXJ2aWV3IEhlbHBlcnMgZm9yIGdvb2dsZS5jb2xhYiBQeXRob24gbW9kdWxlLgogKi8KKGZ1bmN0aW9uKHNjb3BlKSB7CmZ1bmN0aW9uIHNwYW4odGV4dCwgc3R5bGVBdHRyaWJ1dGVzID0ge30pIHsKICBjb25zdCBlbGVtZW50ID0gZG9jdW1lbnQuY3JlYXRlRWxlbWVudCgnc3BhbicpOwogIGVsZW1lbnQudGV4dENvbnRlbnQgPSB0ZXh0OwogIGZvciAoY29uc3Qga2V5IG9mIE9iamVjdC5rZXlzKHN0eWxlQXR0cmlidXRlcykpIHsKICAgIGVsZW1lbnQuc3R5bGVba2V5XSA9IHN0eWxlQXR0cmlidXRlc1trZXldOwogIH0KICByZXR1cm4gZWxlbWVudDsKfQoKLy8gTWF4IG51bWJlciBvZiBieXRlcyB3aGljaCB3aWxsIGJlIHVwbG9hZGVkIGF0IGEgdGltZS4KY29uc3QgTUFYX1BBWUxPQURfU0laRSA9IDEwMCAqIDEwMjQ7CgpmdW5jdGlvbiBfdXBsb2FkRmlsZXMoaW5wdXRJZCwgb3V0cHV0SWQpIHsKICBjb25zdCBzdGVwcyA9IHVwbG9hZEZpbGVzU3RlcChpbnB1dElkLCBvdXRwdXRJZCk7CiAgY29uc3Qgb3V0cHV0RWxlbWVudCA9IGRvY3VtZW50LmdldEVsZW1lbnRCeUlkKG91dHB1dElkKTsKICAvLyBDYWNoZSBzdGVwcyBvbiB0aGUgb3V0cHV0RWxlbWVudCB0byBtYWtlIGl0IGF2YWlsYWJsZSBmb3IgdGhlIG5leHQgY2FsbAogIC8vIHRvIHVwbG9hZEZpbGVzQ29udGludWUgZnJvbSBQeXRob24uCiAgb3V0cHV0RWxlbWVudC5zdGVwcyA9IHN0ZXBzOwoKICByZXR1cm4gX3VwbG9hZEZpbGVzQ29udGludWUob3V0cHV0SWQpOwp9CgovLyBUaGlzIGlzIHJvdWdobHkgYW4gYXN5bmMgZ2VuZXJhdG9yIChub3Qgc3VwcG9ydGVkIGluIHRoZSBicm93c2VyIHlldCksCi8vIHdoZXJlIHRoZXJlIGFyZSBtdWx0aXBsZSBhc3luY2hyb25vdXMgc3RlcHMgYW5kIHRoZSBQeXRob24gc2lkZSBpcyBnb2luZwovLyB0byBwb2xsIGZvciBjb21wbGV0aW9uIG9mIGVhY2ggc3RlcC4KLy8gVGhpcyB1c2VzIGEgUHJvbWlzZSB0byBibG9jayB0aGUgcHl0aG9uIHNpZGUgb24gY29tcGxldGlvbiBvZiBlYWNoIHN0ZXAsCi8vIHRoZW4gcGFzc2VzIHRoZSByZXN1bHQgb2YgdGhlIHByZXZpb3VzIHN0ZXAgYXMgdGhlIGlucHV0IHRvIHRoZSBuZXh0IHN0ZXAuCmZ1bmN0aW9uIF91cGxvYWRGaWxlc0NvbnRpbnVlKG91dHB1dElkKSB7CiAgY29uc3Qgb3V0cHV0RWxlbWVudCA9IGRvY3VtZW50LmdldEVsZW1lbnRCeUlkKG91dHB1dElkKTsKICBjb25zdCBzdGVwcyA9IG91dHB1dEVsZW1lbnQuc3RlcHM7CgogIGNvbnN0IG5leHQgPSBzdGVwcy5uZXh0KG91dHB1dEVsZW1lbnQubGFzdFByb21pc2VWYWx1ZSk7CiAgcmV0dXJuIFByb21pc2UucmVzb2x2ZShuZXh0LnZhbHVlLnByb21pc2UpLnRoZW4oKHZhbHVlKSA9PiB7CiAgICAvLyBDYWNoZSB0aGUgbGFzdCBwcm9taXNlIHZhbHVlIHRvIG1ha2UgaXQgYXZhaWxhYmxlIHRvIHRoZSBuZXh0CiAgICAvLyBzdGVwIG9mIHRoZSBnZW5lcmF0b3IuCiAgICBvdXRwdXRFbGVtZW50Lmxhc3RQcm9taXNlVmFsdWUgPSB2YWx1ZTsKICAgIHJldHVybiBuZXh0LnZhbHVlLnJlc3BvbnNlOwogIH0pOwp9CgovKioKICogR2VuZXJhdG9yIGZ1bmN0aW9uIHdoaWNoIGlzIGNhbGxlZCBiZXR3ZWVuIGVhY2ggYXN5bmMgc3RlcCBvZiB0aGUgdXBsb2FkCiAqIHByb2Nlc3MuCiAqIEBwYXJhbSB7c3RyaW5nfSBpbnB1dElkIEVsZW1lbnQgSUQgb2YgdGhlIGlucHV0IGZpbGUgcGlja2VyIGVsZW1lbnQuCiAqIEBwYXJhbSB7c3RyaW5nfSBvdXRwdXRJZCBFbGVtZW50IElEIG9mIHRoZSBvdXRwdXQgZGlzcGxheS4KICogQHJldHVybiB7IUl0ZXJhYmxlPCFPYmplY3Q+fSBJdGVyYWJsZSBvZiBuZXh0IHN0ZXBzLgogKi8KZnVuY3Rpb24qIHVwbG9hZEZpbGVzU3RlcChpbnB1dElkLCBvdXRwdXRJZCkgewogIGNvbnN0IGlucHV0RWxlbWVudCA9IGRvY3VtZW50LmdldEVsZW1lbnRCeUlkKGlucHV0SWQpOwogIGlucHV0RWxlbWVudC5kaXNhYmxlZCA9IGZhbHNlOwoKICBjb25zdCBvdXRwdXRFbGVtZW50ID0gZG9jdW1lbnQuZ2V0RWxlbWVudEJ5SWQob3V0cHV0SWQpOwogIG91dHB1dEVsZW1lbnQuaW5uZXJIVE1MID0gJyc7CgogIGNvbnN0IHBpY2tlZFByb21pc2UgPSBuZXcgUHJvbWlzZSgocmVzb2x2ZSkgPT4gewogICAgaW5wdXRFbGVtZW50LmFkZEV2ZW50TGlzdGVuZXIoJ2NoYW5nZScsIChlKSA9PiB7CiAgICAgIHJlc29sdmUoZS50YXJnZXQuZmlsZXMpOwogICAgfSk7CiAgfSk7CgogIGNvbnN0IGNhbmNlbCA9IGRvY3VtZW50LmNyZWF0ZUVsZW1lbnQoJ2J1dHRvbicpOwogIGlucHV0RWxlbWVudC5wYXJlbnRFbGVtZW50LmFwcGVuZENoaWxkKGNhbmNlbCk7CiAgY2FuY2VsLnRleHRDb250ZW50ID0gJ0NhbmNlbCB1cGxvYWQnOwogIGNvbnN0IGNhbmNlbFByb21pc2UgPSBuZXcgUHJvbWlzZSgocmVzb2x2ZSkgPT4gewogICAgY2FuY2VsLm9uY2xpY2sgPSAoKSA9PiB7CiAgICAgIHJlc29sdmUobnVsbCk7CiAgICB9OwogIH0pOwoKICAvLyBXYWl0IGZvciB0aGUgdXNlciB0byBwaWNrIHRoZSBmaWxlcy4KICBjb25zdCBmaWxlcyA9IHlpZWxkIHsKICAgIHByb21pc2U6IFByb21pc2UucmFjZShbcGlja2VkUHJvbWlzZSwgY2FuY2VsUHJvbWlzZV0pLAogICAgcmVzcG9uc2U6IHsKICAgICAgYWN0aW9uOiAnc3RhcnRpbmcnLAogICAgfQogIH07CgogIGNhbmNlbC5yZW1vdmUoKTsKCiAgLy8gRGlzYWJsZSB0aGUgaW5wdXQgZWxlbWVudCBzaW5jZSBmdXJ0aGVyIHBpY2tzIGFyZSBub3QgYWxsb3dlZC4KICBpbnB1dEVsZW1lbnQuZGlzYWJsZWQgPSB0cnVlOwoKICBpZiAoIWZpbGVzKSB7CiAgICByZXR1cm4gewogICAgICByZXNwb25zZTogewogICAgICAgIGFjdGlvbjogJ2NvbXBsZXRlJywKICAgICAgfQogICAgfTsKICB9CgogIGZvciAoY29uc3QgZmlsZSBvZiBmaWxlcykgewogICAgY29uc3QgbGkgPSBkb2N1bWVudC5jcmVhdGVFbGVtZW50KCdsaScpOwogICAgbGkuYXBwZW5kKHNwYW4oZmlsZS5uYW1lLCB7Zm9udFdlaWdodDogJ2JvbGQnfSkpOwogICAgbGkuYXBwZW5kKHNwYW4oCiAgICAgICAgYCgke2ZpbGUudHlwZSB8fCAnbi9hJ30pIC0gJHtmaWxlLnNpemV9IGJ5dGVzLCBgICsKICAgICAgICBgbGFzdCBtb2RpZmllZDogJHsKICAgICAgICAgICAgZmlsZS5sYXN0TW9kaWZpZWREYXRlID8gZmlsZS5sYXN0TW9kaWZpZWREYXRlLnRvTG9jYWxlRGF0ZVN0cmluZygpIDoKICAgICAgICAgICAgICAgICAgICAgICAgICAgICAgICAgICAgJ24vYSd9IC0gYCkpOwogICAgY29uc3QgcGVyY2VudCA9IHNwYW4oJzAlIGRvbmUnKTsKICAgIGxpLmFwcGVuZENoaWxkKHBlcmNlbnQpOwoKICAgIG91dHB1dEVsZW1lbnQuYXBwZW5kQ2hpbGQobGkpOwoKICAgIGNvbnN0IGZpbGVEYXRhUHJvbWlzZSA9IG5ldyBQcm9taXNlKChyZXNvbHZlKSA9PiB7CiAgICAgIGNvbnN0IHJlYWRlciA9IG5ldyBGaWxlUmVhZGVyKCk7CiAgICAgIHJlYWRlci5vbmxvYWQgPSAoZSkgPT4gewogICAgICAgIHJlc29sdmUoZS50YXJnZXQucmVzdWx0KTsKICAgICAgfTsKICAgICAgcmVhZGVyLnJlYWRBc0FycmF5QnVmZmVyKGZpbGUpOwogICAgfSk7CiAgICAvLyBXYWl0IGZvciB0aGUgZGF0YSB0byBiZSByZWFkeS4KICAgIGxldCBmaWxlRGF0YSA9IHlpZWxkIHsKICAgICAgcHJvbWlzZTogZmlsZURhdGFQcm9taXNlLAogICAgICByZXNwb25zZTogewogICAgICAgIGFjdGlvbjogJ2NvbnRpbnVlJywKICAgICAgfQogICAgfTsKCiAgICAvLyBVc2UgYSBjaHVua2VkIHNlbmRpbmcgdG8gYXZvaWQgbWVzc2FnZSBzaXplIGxpbWl0cy4gU2VlIGIvNjIxMTU2NjAuCiAgICBsZXQgcG9zaXRpb24gPSAwOwogICAgZG8gewogICAgICBjb25zdCBsZW5ndGggPSBNYXRoLm1pbihmaWxlRGF0YS5ieXRlTGVuZ3RoIC0gcG9zaXRpb24sIE1BWF9QQVlMT0FEX1NJWkUpOwogICAgICBjb25zdCBjaHVuayA9IG5ldyBVaW50OEFycmF5KGZpbGVEYXRhLCBwb3NpdGlvbiwgbGVuZ3RoKTsKICAgICAgcG9zaXRpb24gKz0gbGVuZ3RoOwoKICAgICAgY29uc3QgYmFzZTY0ID0gYnRvYShTdHJpbmcuZnJvbUNoYXJDb2RlLmFwcGx5KG51bGwsIGNodW5rKSk7CiAgICAgIHlpZWxkIHsKICAgICAgICByZXNwb25zZTogewogICAgICAgICAgYWN0aW9uOiAnYXBwZW5kJywKICAgICAgICAgIGZpbGU6IGZpbGUubmFtZSwKICAgICAgICAgIGRhdGE6IGJhc2U2NCwKICAgICAgICB9LAogICAgICB9OwoKICAgICAgbGV0IHBlcmNlbnREb25lID0gZmlsZURhdGEuYnl0ZUxlbmd0aCA9PT0gMCA/CiAgICAgICAgICAxMDAgOgogICAgICAgICAgTWF0aC5yb3VuZCgocG9zaXRpb24gLyBmaWxlRGF0YS5ieXRlTGVuZ3RoKSAqIDEwMCk7CiAgICAgIHBlcmNlbnQudGV4dENvbnRlbnQgPSBgJHtwZXJjZW50RG9uZX0lIGRvbmVgOwoKICAgIH0gd2hpbGUgKHBvc2l0aW9uIDwgZmlsZURhdGEuYnl0ZUxlbmd0aCk7CiAgfQoKICAvLyBBbGwgZG9uZS4KICB5aWVsZCB7CiAgICByZXNwb25zZTogewogICAgICBhY3Rpb246ICdjb21wbGV0ZScsCiAgICB9CiAgfTsKfQoKc2NvcGUuZ29vZ2xlID0gc2NvcGUuZ29vZ2xlIHx8IHt9OwpzY29wZS5nb29nbGUuY29sYWIgPSBzY29wZS5nb29nbGUuY29sYWIgfHwge307CnNjb3BlLmdvb2dsZS5jb2xhYi5fZmlsZXMgPSB7CiAgX3VwbG9hZEZpbGVzLAogIF91cGxvYWRGaWxlc0NvbnRpbnVlLAp9Owp9KShzZWxmKTsK",
              "ok": true,
              "headers": [
                [
                  "content-type",
                  "application/javascript"
                ]
              ],
              "status": 200,
              "status_text": ""
            }
          },
          "base_uri": "https://localhost:8080/",
          "height": 90
        },
        "id": "Fzy3WfurVs6g",
        "outputId": "9f33977e-fc84-4101-bdd1-84752f8fc6d9"
      },
      "source": [
        "#Confirm kaggle\n",
        "from google.colab import files\n",
        "files.upload()"
      ],
      "execution_count": 3,
      "outputs": [
        {
          "output_type": "display_data",
          "data": {
            "text/html": [
              "\n",
              "     <input type=\"file\" id=\"files-44c25991-a7a4-4fb5-89b2-07ce1a4a88c9\" name=\"files[]\" multiple disabled\n",
              "        style=\"border:none\" />\n",
              "     <output id=\"result-44c25991-a7a4-4fb5-89b2-07ce1a4a88c9\">\n",
              "      Upload widget is only available when the cell has been executed in the\n",
              "      current browser session. Please rerun this cell to enable.\n",
              "      </output>\n",
              "      <script src=\"/nbextensions/google.colab/files.js\"></script> "
            ],
            "text/plain": [
              "<IPython.core.display.HTML object>"
            ]
          },
          "metadata": {}
        },
        {
          "output_type": "stream",
          "name": "stdout",
          "text": [
            "Saving kaggle.json to kaggle.json\n"
          ]
        },
        {
          "output_type": "execute_result",
          "data": {
            "text/plain": [
              "{'kaggle.json': b'{\"username\":\"m120t6084\",\"key\":\"e84a806a040113a8065868b02fd3c103\"}'}"
            ]
          },
          "metadata": {},
          "execution_count": 3
        }
      ]
    },
    {
      "cell_type": "code",
      "metadata": {
        "colab": {
          "base_uri": "https://localhost:8080/"
        },
        "id": "FpkfkeIpXSSf",
        "outputId": "045eeac1-ef1f-4bb2-9126-85e4119b0eaf"
      },
      "source": [
        "#Install kaggle dan download dataset dari kaggle\n",
        "!pip install -q kaggle\n",
        "!mkdir -p ~/.kaggle\n",
        "!cp kaggle.json ~/.kaggle/\n",
        "!chmod 600 ~/.kaggle/kaggle.json\n",
        "!kaggle datasets download -d alessiocorrado99/animals10"
      ],
      "execution_count": 4,
      "outputs": [
        {
          "output_type": "stream",
          "name": "stdout",
          "text": [
            "Downloading animals10.zip to /content\n",
            "100% 586M/586M [00:04<00:00, 139MB/s]\n",
            "\n"
          ]
        }
      ]
    },
    {
      "cell_type": "code",
      "metadata": {
        "id": "-izt7TP6Hzrv"
      },
      "source": [
        "#Import Library untuk zipfile,os dan shutil\n",
        "import zipfile,os,shutil\n",
        "local_zip = '/content/animals10.zip' #Variable local_zip berisi direktori lokasi file zip disimpan\n",
        "\n",
        "#Proses ekstrak file zip\n",
        "zip_ref = zipfile.ZipFile(local_zip, 'r')\n",
        "zip_ref.extractall('/content/animals10')\n",
        "zip_ref.close()\n",
        "\n",
        "base_dir = '/content/animals10/raw-img' #Memasukkan isi /content/animals10/raw-img kedalam var base_dir"
      ],
      "execution_count": 5,
      "outputs": []
    },
    {
      "cell_type": "code",
      "metadata": {
        "colab": {
          "base_uri": "https://localhost:8080/"
        },
        "id": "U6arDU_xZm-o",
        "outputId": "428f67e4-e6ef-4466-c7e6-f78af973090a"
      },
      "source": [
        "#Melihat jumlah folder dari file\n",
        "len(os.listdir(base_dir))"
      ],
      "execution_count": 6,
      "outputs": [
        {
          "output_type": "execute_result",
          "data": {
            "text/plain": [
              "10"
            ]
          },
          "metadata": {},
          "execution_count": 6
        }
      ]
    },
    {
      "cell_type": "code",
      "metadata": {
        "colab": {
          "base_uri": "https://localhost:8080/"
        },
        "id": "MNdtK2ZHYYbF",
        "outputId": "10b6ebb7-44f5-4f36-dbdd-78c8f9720f1e"
      },
      "source": [
        "#Melihat isi dari base_dir\n",
        "os.listdir(base_dir)"
      ],
      "execution_count": 7,
      "outputs": [
        {
          "output_type": "execute_result",
          "data": {
            "text/plain": [
              "['scoiattolo',\n",
              " 'farfalla',\n",
              " 'mucca',\n",
              " 'gallina',\n",
              " 'pecora',\n",
              " 'elefante',\n",
              " 'ragno',\n",
              " 'cavallo',\n",
              " 'gatto',\n",
              " 'cane']"
            ]
          },
          "metadata": {},
          "execution_count": 7
        }
      ]
    },
    {
      "cell_type": "code",
      "metadata": {
        "id": "rcaODe6oaWdE"
      },
      "source": [
        "#Rubah nama folder\n",
        "!mv /content/animals10/raw-img/cane /content/animals10/raw-img/dog\n",
        "!mv /content/animals10/raw-img/cavallo /content/animals10/raw-img/horse\n",
        "!mv /content/animals10/raw-img/elefante /content/animals10/raw-img/elephant\n",
        "!mv /content/animals10/raw-img/farfalla /content/animals10/raw-img/butterfly\n",
        "!mv /content/animals10/raw-img/gallina /content/animals10/raw-img/chicken\n",
        "!mv /content/animals10/raw-img/gatto /content/animals10/raw-img/cat\n",
        "!mv /content/animals10/raw-img/mucca /content/animals10/raw-img/cow\n",
        "!mv /content/animals10/raw-img/pecora /content/animals10/raw-img/sheep\n",
        "!mv /content/animals10/raw-img/ragno /content/animals10/raw-img/spider\n",
        "!mv /content/animals10/raw-img/scoiattolo /content/animals10/raw-img/squirrel"
      ],
      "execution_count": 8,
      "outputs": []
    },
    {
      "cell_type": "code",
      "metadata": {
        "colab": {
          "base_uri": "https://localhost:8080/"
        },
        "id": "OVsilEpjbXm2",
        "outputId": "ff3b3c5a-e5fc-460d-d10d-a0a3ba5baf71"
      },
      "source": [
        "#Tampilkan isi yang baru\n",
        "os.listdir(base_dir)"
      ],
      "execution_count": 9,
      "outputs": [
        {
          "output_type": "execute_result",
          "data": {
            "text/plain": [
              "['spider',\n",
              " 'elephant',\n",
              " 'butterfly',\n",
              " 'cat',\n",
              " 'sheep',\n",
              " 'cow',\n",
              " 'dog',\n",
              " 'horse',\n",
              " 'squirrel',\n",
              " 'chicken']"
            ]
          },
          "metadata": {},
          "execution_count": 9
        }
      ]
    },
    {
      "cell_type": "code",
      "metadata": {
        "id": "z0XbDcCReIof"
      },
      "source": [
        "#Membuang folder yang tidak dibutuhkan\n",
        "ignore_base_dir = ['cat', 'sheep', 'elephant', 'cow', 'squirrel', 'spider']\n",
        "\n",
        "for x in ignore_base_dir:\n",
        "  path = os.path.join(base_dir, x)\n",
        "  shutil.rmtree(path)"
      ],
      "execution_count": 10,
      "outputs": []
    },
    {
      "cell_type": "code",
      "metadata": {
        "colab": {
          "base_uri": "https://localhost:8080/"
        },
        "id": "XAW45lfuk9Vj",
        "outputId": "2f66db44-2f74-42be-d9f0-cb5a2366291c"
      },
      "source": [
        "contents=os.listdir(base_dir)\n",
        "print(contents)"
      ],
      "execution_count": 11,
      "outputs": [
        {
          "output_type": "stream",
          "name": "stdout",
          "text": [
            "['butterfly', 'dog', 'horse', 'chicken']\n"
          ]
        }
      ]
    },
    {
      "cell_type": "code",
      "metadata": {
        "colab": {
          "base_uri": "https://localhost:8080/"
        },
        "id": "sVFpnRTYlEi2",
        "outputId": "c73237e6-e9ff-4036-ef9b-a459a415b419"
      },
      "source": [
        "from PIL import Image\n",
        "total = 0\n",
        "\n",
        "for x in contents:\n",
        "  dir = os.path.join(base_dir, x)\n",
        "  y = len(os.listdir(dir))\n",
        "  print(x+':', y)\n",
        "  total = total + y\n",
        "  \n",
        "  img_name = os.listdir(dir)\n",
        "  for z in range(4):\n",
        "    img_path = os.path.join(dir, img_name[z])\n",
        "    img = Image.open(img_path)\n",
        "    print('-',img.size)\n",
        "  print('---------------')\n",
        "\n",
        "print('\\nTotal Dataset Digunakan :', total)"
      ],
      "execution_count": 12,
      "outputs": [
        {
          "output_type": "stream",
          "name": "stdout",
          "text": [
            "butterfly: 2112\n",
            "- (300, 200)\n",
            "- (640, 424)\n",
            "- (179, 194)\n",
            "- (300, 226)\n",
            "---------------\n",
            "dog: 4863\n",
            "- (300, 300)\n",
            "- (226, 300)\n",
            "- (300, 169)\n",
            "- (300, 200)\n",
            "---------------\n",
            "horse: 2623\n",
            "- (300, 226)\n",
            "- (300, 252)\n",
            "- (300, 221)\n",
            "- (300, 233)\n",
            "---------------\n",
            "chicken: 3098\n",
            "- (300, 275)\n",
            "- (291, 300)\n",
            "- (300, 225)\n",
            "- (300, 257)\n",
            "---------------\n",
            "\n",
            "Total Dataset Digunakan : 12696\n"
          ]
        }
      ]
    },
    {
      "cell_type": "code",
      "metadata": {
        "id": "eUee8AbIpHtF"
      },
      "source": [
        "#Proses pembuatan generator train dan val\n",
        "datagen = ImageDataGenerator(\n",
        "    rescale=1./255,\n",
        "    rotation_range=20,\n",
        "    horizontal_flip=True,\n",
        "    shear_range = 0.2,\n",
        "    zoom_range=0.3,\n",
        "    validation_split=0.2,\n",
        "    fill_mode = 'nearest')"
      ],
      "execution_count": 13,
      "outputs": []
    },
    {
      "cell_type": "code",
      "metadata": {
        "colab": {
          "base_uri": "https://localhost:8080/"
        },
        "id": "DpCX5UyZqEzl",
        "outputId": "ac794589-23e8-4668-9d6b-8a5ee672c5a3"
      },
      "source": [
        "data_train = datagen.flow_from_directory(\n",
        "    base_dir,\n",
        "    target_size=(150, 150),\n",
        "    batch_size=128,\n",
        "    class_mode='categorical',\n",
        "    subset='training')\n",
        "\n",
        "data_val = datagen.flow_from_directory(\n",
        "    base_dir, \n",
        "    target_size=(150, 150),\n",
        "    batch_size=128,\n",
        "    class_mode='categorical',\n",
        "    subset='validation')"
      ],
      "execution_count": 14,
      "outputs": [
        {
          "output_type": "stream",
          "name": "stdout",
          "text": [
            "Found 10159 images belonging to 4 classes.\n",
            "Found 2537 images belonging to 4 classes.\n"
          ]
        }
      ]
    },
    {
      "cell_type": "code",
      "metadata": {
        "id": "rOe0kXDBrMSX"
      },
      "source": [
        "#Model\n",
        "\n",
        "model = tf.keras.models.Sequential([\n",
        "    tf.keras.layers.Conv2D(64, (3,3), activation='relu', input_shape=(150, 150, 3)),\n",
        "    tf.keras.layers.MaxPooling2D(2, 2),\n",
        "    tf.keras.layers.Conv2D(64, (3,3), activation='relu'),\n",
        "    tf.keras.layers.MaxPooling2D(2,2),\n",
        "    tf.keras.layers.Conv2D(128, (3,3), activation='relu'),\n",
        "    tf.keras.layers.MaxPooling2D(2,2),\n",
        "    tf.keras.layers.Conv2D(128, (3,3), activation='relu'),\n",
        "    tf.keras.layers.MaxPooling2D(2,2),\n",
        "    tf.keras.layers.Flatten(),\n",
        "    tf.keras.layers.Dropout(0.5), \n",
        "    tf.keras.layers.Dense(256, activation='relu'),\n",
        "    tf.keras.layers.Dense(4, activation='softmax')\n",
        "])"
      ],
      "execution_count": 15,
      "outputs": []
    },
    {
      "cell_type": "code",
      "metadata": {
        "id": "JSNYrlbosS5A"
      },
      "source": [
        "model.compile(loss = 'categorical_crossentropy',\n",
        "              optimizer = tf.optimizers.Adam(),\n",
        "              metrics = ['accuracy'])"
      ],
      "execution_count": 16,
      "outputs": []
    },
    {
      "cell_type": "code",
      "metadata": {
        "id": "Dkna9aA5seIJ"
      },
      "source": [
        "#Callback\n",
        "class myCallback(tf.keras.callbacks.Callback):\n",
        "  def on_epoch_end(self, epoch, logs={}):\n",
        "    if(logs.get('accuracy')>=0.92 and logs.get('val_accuracy')>=0.92):\n",
        "      print(\"\\nAkurasi telah mencapai 92%!\")\n",
        "      self.model.stop_training = True\n",
        "\n",
        "callbacks = myCallback()"
      ],
      "execution_count": 17,
      "outputs": []
    },
    {
      "cell_type": "code",
      "metadata": {
        "colab": {
          "base_uri": "https://localhost:8080/"
        },
        "id": "aIKFniy2srNF",
        "outputId": "fb235c3a-b3c6-4d68-b473-37ac8d1ac4bb"
      },
      "source": [
        "#Proses Training\n",
        "history = model.fit(data_train, \n",
        "                    epochs = 90, \n",
        "                    steps_per_epoch = data_train.samples // 128,\n",
        "                    validation_data = data_val,\n",
        "                    validation_steps = data_val.samples // 128,\n",
        "                    verbose = 2,\n",
        "                    callbacks = [callbacks])"
      ],
      "execution_count": 18,
      "outputs": [
        {
          "output_type": "stream",
          "name": "stdout",
          "text": [
            "Epoch 1/90\n",
            "79/79 - 120s - loss: 1.1810 - accuracy: 0.4714 - val_loss: 1.0718 - val_accuracy: 0.5493\n",
            "Epoch 2/90\n",
            "79/79 - 83s - loss: 0.9257 - accuracy: 0.6220 - val_loss: 0.8042 - val_accuracy: 0.6879\n",
            "Epoch 3/90\n",
            "79/79 - 83s - loss: 0.7298 - accuracy: 0.7147 - val_loss: 0.7421 - val_accuracy: 0.7060\n",
            "Epoch 4/90\n",
            "79/79 - 85s - loss: 0.6506 - accuracy: 0.7526 - val_loss: 0.7424 - val_accuracy: 0.7171\n",
            "Epoch 5/90\n",
            "79/79 - 85s - loss: 0.6153 - accuracy: 0.7665 - val_loss: 0.5888 - val_accuracy: 0.7812\n",
            "Epoch 6/90\n",
            "79/79 - 86s - loss: 0.5356 - accuracy: 0.7991 - val_loss: 0.5182 - val_accuracy: 0.8039\n",
            "Epoch 7/90\n",
            "79/79 - 84s - loss: 0.5187 - accuracy: 0.8087 - val_loss: 0.5373 - val_accuracy: 0.8022\n",
            "Epoch 8/90\n",
            "79/79 - 83s - loss: 0.5029 - accuracy: 0.8113 - val_loss: 0.4811 - val_accuracy: 0.8306\n",
            "Epoch 9/90\n",
            "79/79 - 84s - loss: 0.4667 - accuracy: 0.8297 - val_loss: 0.5170 - val_accuracy: 0.8002\n",
            "Epoch 10/90\n",
            "79/79 - 84s - loss: 0.4629 - accuracy: 0.8255 - val_loss: 0.4331 - val_accuracy: 0.8466\n",
            "Epoch 11/90\n",
            "79/79 - 84s - loss: 0.4260 - accuracy: 0.8422 - val_loss: 0.4256 - val_accuracy: 0.8446\n",
            "Epoch 12/90\n",
            "79/79 - 84s - loss: 0.4074 - accuracy: 0.8457 - val_loss: 0.4594 - val_accuracy: 0.8257\n",
            "Epoch 13/90\n",
            "79/79 - 84s - loss: 0.3979 - accuracy: 0.8501 - val_loss: 0.4072 - val_accuracy: 0.8495\n",
            "Epoch 14/90\n",
            "79/79 - 84s - loss: 0.3908 - accuracy: 0.8537 - val_loss: 0.3938 - val_accuracy: 0.8618\n",
            "Epoch 15/90\n",
            "79/79 - 84s - loss: 0.3794 - accuracy: 0.8580 - val_loss: 0.3905 - val_accuracy: 0.8602\n",
            "Epoch 16/90\n",
            "79/79 - 85s - loss: 0.3666 - accuracy: 0.8616 - val_loss: 0.3799 - val_accuracy: 0.8606\n",
            "Epoch 17/90\n",
            "79/79 - 83s - loss: 0.3630 - accuracy: 0.8686 - val_loss: 0.3880 - val_accuracy: 0.8594\n",
            "Epoch 18/90\n",
            "79/79 - 84s - loss: 0.3504 - accuracy: 0.8685 - val_loss: 0.3830 - val_accuracy: 0.8627\n",
            "Epoch 19/90\n",
            "79/79 - 84s - loss: 0.3519 - accuracy: 0.8678 - val_loss: 0.3789 - val_accuracy: 0.8610\n",
            "Epoch 20/90\n",
            "79/79 - 84s - loss: 0.3454 - accuracy: 0.8735 - val_loss: 0.3912 - val_accuracy: 0.8565\n",
            "Epoch 21/90\n",
            "79/79 - 84s - loss: 0.3451 - accuracy: 0.8705 - val_loss: 0.3630 - val_accuracy: 0.8705\n",
            "Epoch 22/90\n",
            "79/79 - 84s - loss: 0.3181 - accuracy: 0.8812 - val_loss: 0.3916 - val_accuracy: 0.8581\n",
            "Epoch 23/90\n",
            "79/79 - 84s - loss: 0.3247 - accuracy: 0.8783 - val_loss: 0.3525 - val_accuracy: 0.8713\n",
            "Epoch 24/90\n",
            "79/79 - 83s - loss: 0.2986 - accuracy: 0.8901 - val_loss: 0.3660 - val_accuracy: 0.8664\n",
            "Epoch 25/90\n",
            "79/79 - 84s - loss: 0.2904 - accuracy: 0.8954 - val_loss: 0.4001 - val_accuracy: 0.8586\n",
            "Epoch 26/90\n",
            "79/79 - 84s - loss: 0.2839 - accuracy: 0.8955 - val_loss: 0.3282 - val_accuracy: 0.8853\n",
            "Epoch 27/90\n",
            "79/79 - 84s - loss: 0.2803 - accuracy: 0.8929 - val_loss: 0.3600 - val_accuracy: 0.8746\n",
            "Epoch 28/90\n",
            "79/79 - 83s - loss: 0.2813 - accuracy: 0.8981 - val_loss: 0.3349 - val_accuracy: 0.8758\n",
            "Epoch 29/90\n",
            "79/79 - 83s - loss: 0.2791 - accuracy: 0.8953 - val_loss: 0.3272 - val_accuracy: 0.8869\n",
            "Epoch 30/90\n",
            "79/79 - 84s - loss: 0.2616 - accuracy: 0.9035 - val_loss: 0.3231 - val_accuracy: 0.8873\n",
            "Epoch 31/90\n",
            "79/79 - 84s - loss: 0.2634 - accuracy: 0.9056 - val_loss: 0.3385 - val_accuracy: 0.8828\n",
            "Epoch 32/90\n",
            "79/79 - 84s - loss: 0.2583 - accuracy: 0.9008 - val_loss: 0.3241 - val_accuracy: 0.8857\n",
            "Epoch 33/90\n",
            "79/79 - 85s - loss: 0.2566 - accuracy: 0.9032 - val_loss: 0.3594 - val_accuracy: 0.8787\n",
            "Epoch 34/90\n",
            "79/79 - 84s - loss: 0.2377 - accuracy: 0.9116 - val_loss: 0.3810 - val_accuracy: 0.8697\n",
            "Epoch 35/90\n",
            "79/79 - 84s - loss: 0.2413 - accuracy: 0.9130 - val_loss: 0.3522 - val_accuracy: 0.8803\n",
            "Epoch 36/90\n",
            "79/79 - 84s - loss: 0.2465 - accuracy: 0.9102 - val_loss: 0.3137 - val_accuracy: 0.8951\n",
            "Epoch 37/90\n",
            "79/79 - 84s - loss: 0.2238 - accuracy: 0.9192 - val_loss: 0.3625 - val_accuracy: 0.8766\n",
            "Epoch 38/90\n",
            "79/79 - 84s - loss: 0.2235 - accuracy: 0.9173 - val_loss: 0.3488 - val_accuracy: 0.8890\n",
            "Epoch 39/90\n",
            "79/79 - 84s - loss: 0.2179 - accuracy: 0.9192 - val_loss: 0.3189 - val_accuracy: 0.8898\n",
            "Epoch 40/90\n",
            "79/79 - 84s - loss: 0.2159 - accuracy: 0.9193 - val_loss: 0.3087 - val_accuracy: 0.8894\n",
            "Epoch 41/90\n",
            "79/79 - 84s - loss: 0.2131 - accuracy: 0.9209 - val_loss: 0.3319 - val_accuracy: 0.8869\n",
            "Epoch 42/90\n",
            "79/79 - 85s - loss: 0.2230 - accuracy: 0.9170 - val_loss: 0.3481 - val_accuracy: 0.8873\n",
            "Epoch 43/90\n",
            "79/79 - 84s - loss: 0.2127 - accuracy: 0.9214 - val_loss: 0.3200 - val_accuracy: 0.8886\n",
            "Epoch 44/90\n",
            "79/79 - 85s - loss: 0.2009 - accuracy: 0.9254 - val_loss: 0.3395 - val_accuracy: 0.8816\n",
            "Epoch 45/90\n",
            "79/79 - 84s - loss: 0.2024 - accuracy: 0.9253 - val_loss: 0.3596 - val_accuracy: 0.8873\n",
            "Epoch 46/90\n",
            "79/79 - 85s - loss: 0.1963 - accuracy: 0.9251 - val_loss: 0.3140 - val_accuracy: 0.8914\n",
            "Epoch 47/90\n",
            "79/79 - 85s - loss: 0.1948 - accuracy: 0.9273 - val_loss: 0.3484 - val_accuracy: 0.8812\n",
            "Epoch 48/90\n",
            "79/79 - 85s - loss: 0.1979 - accuracy: 0.9275 - val_loss: 0.3580 - val_accuracy: 0.8968\n",
            "Epoch 49/90\n",
            "79/79 - 85s - loss: 0.1843 - accuracy: 0.9333 - val_loss: 0.3323 - val_accuracy: 0.8906\n",
            "Epoch 50/90\n",
            "79/79 - 84s - loss: 0.1829 - accuracy: 0.9344 - val_loss: 0.3456 - val_accuracy: 0.8873\n",
            "Epoch 51/90\n",
            "79/79 - 84s - loss: 0.1685 - accuracy: 0.9388 - val_loss: 0.3388 - val_accuracy: 0.8890\n",
            "Epoch 52/90\n",
            "79/79 - 85s - loss: 0.1792 - accuracy: 0.9329 - val_loss: 0.3201 - val_accuracy: 0.8956\n",
            "Epoch 53/90\n",
            "79/79 - 85s - loss: 0.1638 - accuracy: 0.9398 - val_loss: 0.3464 - val_accuracy: 0.8931\n",
            "Epoch 54/90\n",
            "79/79 - 88s - loss: 0.1714 - accuracy: 0.9364 - val_loss: 0.3406 - val_accuracy: 0.8927\n",
            "Epoch 55/90\n",
            "79/79 - 87s - loss: 0.1790 - accuracy: 0.9331 - val_loss: 0.3358 - val_accuracy: 0.8976\n",
            "Epoch 56/90\n",
            "79/79 - 85s - loss: 0.1648 - accuracy: 0.9371 - val_loss: 0.3847 - val_accuracy: 0.8824\n",
            "Epoch 57/90\n",
            "79/79 - 86s - loss: 0.1647 - accuracy: 0.9397 - val_loss: 0.3538 - val_accuracy: 0.8988\n",
            "Epoch 58/90\n",
            "79/79 - 87s - loss: 0.1638 - accuracy: 0.9391 - val_loss: 0.3513 - val_accuracy: 0.8923\n",
            "Epoch 59/90\n",
            "79/79 - 87s - loss: 0.1597 - accuracy: 0.9393 - val_loss: 0.3279 - val_accuracy: 0.8976\n",
            "Epoch 60/90\n",
            "79/79 - 86s - loss: 0.1585 - accuracy: 0.9440 - val_loss: 0.3537 - val_accuracy: 0.8898\n",
            "Epoch 61/90\n",
            "79/79 - 84s - loss: 0.1626 - accuracy: 0.9424 - val_loss: 0.3488 - val_accuracy: 0.8820\n",
            "Epoch 62/90\n",
            "79/79 - 83s - loss: 0.1525 - accuracy: 0.9426 - val_loss: 0.3260 - val_accuracy: 0.8980\n",
            "Epoch 63/90\n",
            "79/79 - 83s - loss: 0.1503 - accuracy: 0.9464 - val_loss: 0.3164 - val_accuracy: 0.8968\n",
            "Epoch 64/90\n",
            "79/79 - 83s - loss: 0.1539 - accuracy: 0.9438 - val_loss: 0.3287 - val_accuracy: 0.8956\n",
            "Epoch 65/90\n",
            "79/79 - 83s - loss: 0.1379 - accuracy: 0.9504 - val_loss: 0.3575 - val_accuracy: 0.8993\n",
            "Epoch 66/90\n",
            "79/79 - 83s - loss: 0.1385 - accuracy: 0.9491 - val_loss: 0.3437 - val_accuracy: 0.8923\n",
            "Epoch 67/90\n",
            "79/79 - 85s - loss: 0.1408 - accuracy: 0.9477 - val_loss: 0.3466 - val_accuracy: 0.8951\n",
            "Epoch 68/90\n",
            "79/79 - 87s - loss: 0.1320 - accuracy: 0.9529 - val_loss: 0.3704 - val_accuracy: 0.8919\n",
            "Epoch 69/90\n",
            "79/79 - 84s - loss: 0.1328 - accuracy: 0.9534 - val_loss: 0.3684 - val_accuracy: 0.8943\n",
            "Epoch 70/90\n",
            "79/79 - 83s - loss: 0.1307 - accuracy: 0.9532 - val_loss: 0.3696 - val_accuracy: 0.8923\n",
            "Epoch 71/90\n",
            "79/79 - 82s - loss: 0.1412 - accuracy: 0.9507 - val_loss: 0.3723 - val_accuracy: 0.8972\n",
            "Epoch 72/90\n",
            "79/79 - 83s - loss: 0.1460 - accuracy: 0.9475 - val_loss: 0.3514 - val_accuracy: 0.9001\n",
            "Epoch 73/90\n",
            "79/79 - 83s - loss: 0.1252 - accuracy: 0.9561 - val_loss: 0.3543 - val_accuracy: 0.9013\n",
            "Epoch 74/90\n",
            "79/79 - 82s - loss: 0.1366 - accuracy: 0.9531 - val_loss: 0.4076 - val_accuracy: 0.8857\n",
            "Epoch 75/90\n",
            "79/79 - 82s - loss: 0.1478 - accuracy: 0.9459 - val_loss: 0.4266 - val_accuracy: 0.8812\n",
            "Epoch 76/90\n",
            "79/79 - 87s - loss: 0.1334 - accuracy: 0.9505 - val_loss: 0.3442 - val_accuracy: 0.9017\n",
            "Epoch 77/90\n",
            "79/79 - 89s - loss: 0.1252 - accuracy: 0.9558 - val_loss: 0.3676 - val_accuracy: 0.8960\n",
            "Epoch 78/90\n",
            "79/79 - 83s - loss: 0.1127 - accuracy: 0.9565 - val_loss: 0.3340 - val_accuracy: 0.9046\n",
            "Epoch 79/90\n",
            "79/79 - 83s - loss: 0.1288 - accuracy: 0.9536 - val_loss: 0.3396 - val_accuracy: 0.9058\n",
            "Epoch 80/90\n",
            "79/79 - 84s - loss: 0.1269 - accuracy: 0.9539 - val_loss: 0.3760 - val_accuracy: 0.8890\n",
            "Epoch 81/90\n",
            "79/79 - 84s - loss: 0.1244 - accuracy: 0.9563 - val_loss: 0.3645 - val_accuracy: 0.8931\n",
            "Epoch 82/90\n",
            "79/79 - 83s - loss: 0.1138 - accuracy: 0.9602 - val_loss: 0.3713 - val_accuracy: 0.8964\n",
            "Epoch 83/90\n",
            "79/79 - 83s - loss: 0.1226 - accuracy: 0.9543 - val_loss: 0.4003 - val_accuracy: 0.8931\n",
            "Epoch 84/90\n",
            "79/79 - 84s - loss: 0.1105 - accuracy: 0.9610 - val_loss: 0.3545 - val_accuracy: 0.9013\n",
            "Epoch 85/90\n",
            "79/79 - 85s - loss: 0.1176 - accuracy: 0.9571 - val_loss: 0.3863 - val_accuracy: 0.9025\n",
            "Epoch 86/90\n",
            "79/79 - 85s - loss: 0.1143 - accuracy: 0.9597 - val_loss: 0.3791 - val_accuracy: 0.8947\n",
            "Epoch 87/90\n",
            "79/79 - 84s - loss: 0.1056 - accuracy: 0.9628 - val_loss: 0.3678 - val_accuracy: 0.8914\n",
            "Epoch 88/90\n",
            "79/79 - 83s - loss: 0.1139 - accuracy: 0.9607 - val_loss: 0.3592 - val_accuracy: 0.8976\n",
            "Epoch 89/90\n",
            "79/79 - 84s - loss: 0.0994 - accuracy: 0.9652 - val_loss: 0.3572 - val_accuracy: 0.9025\n",
            "Epoch 90/90\n",
            "79/79 - 83s - loss: 0.1188 - accuracy: 0.9579 - val_loss: 0.4114 - val_accuracy: 0.8865\n"
          ]
        }
      ]
    },
    {
      "cell_type": "code",
      "metadata": {
        "id": "23iRKbur1MAo",
        "colab": {
          "base_uri": "https://localhost:8080/",
          "height": 295
        },
        "outputId": "c020d70a-4fce-4508-e4d9-ef6264400e1c"
      },
      "source": [
        "#Plot loss\n",
        "import matplotlib.pyplot as plt\n",
        "\n",
        "plt.plot(history.history['loss'])\n",
        "plt.plot(history.history['val_loss'])\n",
        "plt.title('Loss Pada Model')\n",
        "plt.ylabel('loss')\n",
        "plt.xlabel('epoch')\n",
        "plt.legend(['latih', 'val'], loc='upper left')\n",
        "plt.show()"
      ],
      "execution_count": 19,
      "outputs": [
        {
          "output_type": "display_data",
          "data": {
            "image/png": "[encoded data removed]",
            "text/plain": [
              "<Figure size 432x288 with 1 Axes>"
            ]
          },
          "metadata": {
            "needs_background": "light"
          }
        }
      ]
    },
    {
      "cell_type": "code",
      "metadata": {
        "id": "FHh9F_4n1jiS",
        "colab": {
          "base_uri": "https://localhost:8080/",
          "height": 295
        },
        "outputId": "f086929f-1e6a-45b6-8a09-1b119c55fead"
      },
      "source": [
        "#Plot Akurasi\n",
        "plt.plot(history.history['accuracy'])\n",
        "plt.plot(history.history['val_accuracy'])\n",
        "plt.title('Accuracy Pada Model')\n",
        "plt.ylabel('accuracy')\n",
        "plt.xlabel('epoch')\n",
        "plt.legend(['latih', 'val'], loc='upper left')\n",
        "plt.show()"
      ],
      "execution_count": 20,
      "outputs": [
        {
          "output_type": "display_data",
          "data": {
            "image/png": "[encoded data removed]",
            "text/plain": [
              "<Figure size 432x288 with 1 Axes>"
            ]
          },
          "metadata": {
            "needs_background": "light"
          }
        }
      ]
    },
    {
      "cell_type": "code",
      "metadata": {
        "id": "Fq4Vsk0V17S5",
        "colab": {
          "base_uri": "https://localhost:8080/"
        },
        "outputId": "5ca1dba9-bb82-4617-edd4-839d0e5affbc"
      },
      "source": [
        "#Convert file ke TFLite\n",
        "converter = tf.lite.TFLiteConverter.from_keras_model(model)\n",
        "tflite_model = converter.convert()\n",
        "\n",
        "with tf.io.gfile.GFile('model.tflite', 'wb') as f:\n",
        "  f.write(tflite_model)"
      ],
      "execution_count": 21,
      "outputs": [
        {
          "output_type": "stream",
          "name": "stdout",
          "text": [
            "INFO:tensorflow:Assets written to: /tmp/tmp3d7u_ag5/assets\n"
          ]
        }
      ]
    }
  ]
}