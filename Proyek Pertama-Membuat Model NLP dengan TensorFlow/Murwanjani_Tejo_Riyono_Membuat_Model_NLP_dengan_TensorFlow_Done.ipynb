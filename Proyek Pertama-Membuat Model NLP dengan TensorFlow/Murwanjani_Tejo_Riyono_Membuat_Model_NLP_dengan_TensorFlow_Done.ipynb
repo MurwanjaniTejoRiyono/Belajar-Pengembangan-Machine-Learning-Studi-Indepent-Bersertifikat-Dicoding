{
  "nbformat": 4,
  "nbformat_minor": 0,
  "metadata": {
    "colab": {
      "name": "Murwanjani_Tejo_Riyono-Membuat_Model_NLP_dengan_TensorFlow-Done.ipynb",
      "provenance": []
    },
    "kernelspec": {
      "name": "python3",
      "display_name": "Python 3"
    },
    "language_info": {
      "name": "python"
    }
  },
  "cells": [
    {
      "cell_type": "code",
      "metadata": {
        "colab": {
          "base_uri": "https://localhost:8080/"
        },
        "id": "u6G4oFyrtwM9",
        "outputId": "18af0af6-9743-4ba3-c574-d098b9bc3507"
      },
      "source": [
        "print ('Proyek Proyek Pertama : Membuat Model NLP dengan TensorFlow')\n",
        "print ('Dataset Terlampir Bersama File zip')\n",
        "print ('SMS Spam Collection Dataset : https://www.kaggle.com/uciml/sms-spam-collection-dataset')"
      ],
      "execution_count": 33,
      "outputs": [
        {
          "output_type": "stream",
          "name": "stdout",
          "text": [
            "Proyek Proyek Pertama : Membuat Model NLP dengan TensorFlow\n",
            "Dataset Terlampir Bersama File zip\n",
            "SMS Spam Collection Dataset : https://www.kaggle.com/uciml/sms-spam-collection-dataset\n"
          ]
        }
      ]
    },
    {
      "cell_type": "code",
      "metadata": {
        "colab": {
          "base_uri": "https://localhost:8080/"
        },
        "id": "fSAPFi2QuJh9",
        "outputId": "d03a5044-49dc-448a-dbea-e8168f799f66"
      },
      "source": [
        "#Data Diri\n",
        "print ('Nama  : Murwanjani Tejo Riyono')\n",
        "print ('Kelas : MLFE M1')"
      ],
      "execution_count": 34,
      "outputs": [
        {
          "output_type": "stream",
          "name": "stdout",
          "text": [
            "Nama  : Murwanjani Tejo Riyono\n",
            "Kelas : MLFE M1\n"
          ]
        }
      ]
    },
    {
      "cell_type": "code",
      "metadata": {
        "id": "w1xZ3pIRuMbh"
      },
      "source": [
        "import zipfile\n",
        "local_zip = '/content/SMS_Spam_Collection_Dataset.zip' #Variable local_zip berisi direktori lokasi file zip disimpan\n",
        "\n",
        "#Proses ekstrak file zip\n",
        "zip_ref = zipfile.ZipFile(local_zip, 'r')\n",
        "zip_ref.extractall('/content/SMS_Spam_Collection_Dataset')\n",
        "zip_ref.close()\n",
        "\n",
        "base_dir = '/content/SMS_Spam_Collection_Dataset/spam.csv' #Menentukan main/base direktori"
      ],
      "execution_count": 35,
      "outputs": []
    },
    {
      "cell_type": "code",
      "metadata": {
        "colab": {
          "base_uri": "https://localhost:8080/"
        },
        "id": "67mpCAvVuass",
        "outputId": "b1881c30-a9a1-47d9-b6d1-eefeef67090b"
      },
      "source": [
        "import pandas as pd\n",
        "import chardet\n",
        "\n",
        "#Proses read file csv, merubah data menjadi dataframe dan menghapus kolom yang tidak diperlukan\n",
        "with open(base_dir, 'rb') as rawdata:\n",
        "    result = chardet.detect(rawdata.read(100000))\n",
        "result\n",
        "df = pd.read_csv(base_dir,encoding='ISO-8859-1')\n",
        "df= df.drop(columns='Unnamed: 2')\n",
        "df= df.drop(columns='Unnamed: 3')\n",
        "df= df.drop(columns='Unnamed: 4')\n",
        "df.info()"
      ],
      "execution_count": 36,
      "outputs": [
        {
          "output_type": "stream",
          "name": "stdout",
          "text": [
            "<class 'pandas.core.frame.DataFrame'>\n",
            "RangeIndex: 5572 entries, 0 to 5571\n",
            "Data columns (total 2 columns):\n",
            " #   Column  Non-Null Count  Dtype \n",
            "---  ------  --------------  ----- \n",
            " 0   v1      5572 non-null   object\n",
            " 1   v2      5572 non-null   object\n",
            "dtypes: object(2)\n",
            "memory usage: 87.2+ KB\n"
          ]
        }
      ]
    },
    {
      "cell_type": "code",
      "metadata": {
        "colab": {
          "base_uri": "https://localhost:8080/",
          "height": 204
        },
        "id": "dSunJQQUua0b",
        "outputId": "5c676cc9-0361-4c57-ca44-235279d45daf"
      },
      "source": [
        "#Cek Data\n",
        "df.head() #Menampilkan 5 data awal"
      ],
      "execution_count": 37,
      "outputs": [
        {
          "output_type": "execute_result",
          "data": {
            "text/html": [
              "<div>\n",
              "<style scoped>\n",
              "    .dataframe tbody tr th:only-of-type {\n",
              "        vertical-align: middle;\n",
              "    }\n",
              "\n",
              "    .dataframe tbody tr th {\n",
              "        vertical-align: top;\n",
              "    }\n",
              "\n",
              "    .dataframe thead th {\n",
              "        text-align: right;\n",
              "    }\n",
              "</style>\n",
              "<table border=\"1\" class=\"dataframe\">\n",
              "  <thead>\n",
              "    <tr style=\"text-align: right;\">\n",
              "      <th></th>\n",
              "      <th>v1</th>\n",
              "      <th>v2</th>\n",
              "    </tr>\n",
              "  </thead>\n",
              "  <tbody>\n",
              "    <tr>\n",
              "      <th>0</th>\n",
              "      <td>ham</td>\n",
              "      <td>Go until jurong point, crazy.. Available only ...</td>\n",
              "    </tr>\n",
              "    <tr>\n",
              "      <th>1</th>\n",
              "      <td>ham</td>\n",
              "      <td>Ok lar... Joking wif u oni...</td>\n",
              "    </tr>\n",
              "    <tr>\n",
              "      <th>2</th>\n",
              "      <td>spam</td>\n",
              "      <td>Free entry in 2 a wkly comp to win FA Cup fina...</td>\n",
              "    </tr>\n",
              "    <tr>\n",
              "      <th>3</th>\n",
              "      <td>ham</td>\n",
              "      <td>U dun say so early hor... U c already then say...</td>\n",
              "    </tr>\n",
              "    <tr>\n",
              "      <th>4</th>\n",
              "      <td>ham</td>\n",
              "      <td>Nah I don't think he goes to usf, he lives aro...</td>\n",
              "    </tr>\n",
              "  </tbody>\n",
              "</table>\n",
              "</div>"
            ],
            "text/plain": [
              "     v1                                                 v2\n",
              "0   ham  Go until jurong point, crazy.. Available only ...\n",
              "1   ham                      Ok lar... Joking wif u oni...\n",
              "2  spam  Free entry in 2 a wkly comp to win FA Cup fina...\n",
              "3   ham  U dun say so early hor... U c already then say...\n",
              "4   ham  Nah I don't think he goes to usf, he lives aro..."
            ]
          },
          "metadata": {},
          "execution_count": 37
        }
      ]
    },
    {
      "cell_type": "code",
      "metadata": {
        "colab": {
          "base_uri": "https://localhost:8080/",
          "height": 204
        },
        "id": "Ln4umI3_vJsh",
        "outputId": "b5a66f5c-e3a0-4d67-a56d-816e6650d4b0"
      },
      "source": [
        "df.tail() #Menampilkan 5 data akhir"
      ],
      "execution_count": 38,
      "outputs": [
        {
          "output_type": "execute_result",
          "data": {
            "text/html": [
              "<div>\n",
              "<style scoped>\n",
              "    .dataframe tbody tr th:only-of-type {\n",
              "        vertical-align: middle;\n",
              "    }\n",
              "\n",
              "    .dataframe tbody tr th {\n",
              "        vertical-align: top;\n",
              "    }\n",
              "\n",
              "    .dataframe thead th {\n",
              "        text-align: right;\n",
              "    }\n",
              "</style>\n",
              "<table border=\"1\" class=\"dataframe\">\n",
              "  <thead>\n",
              "    <tr style=\"text-align: right;\">\n",
              "      <th></th>\n",
              "      <th>v1</th>\n",
              "      <th>v2</th>\n",
              "    </tr>\n",
              "  </thead>\n",
              "  <tbody>\n",
              "    <tr>\n",
              "      <th>5567</th>\n",
              "      <td>spam</td>\n",
              "      <td>This is the 2nd time we have tried 2 contact u...</td>\n",
              "    </tr>\n",
              "    <tr>\n",
              "      <th>5568</th>\n",
              "      <td>ham</td>\n",
              "      <td>Will Ì_ b going to esplanade fr home?</td>\n",
              "    </tr>\n",
              "    <tr>\n",
              "      <th>5569</th>\n",
              "      <td>ham</td>\n",
              "      <td>Pity, * was in mood for that. So...any other s...</td>\n",
              "    </tr>\n",
              "    <tr>\n",
              "      <th>5570</th>\n",
              "      <td>ham</td>\n",
              "      <td>The guy did some bitching but I acted like i'd...</td>\n",
              "    </tr>\n",
              "    <tr>\n",
              "      <th>5571</th>\n",
              "      <td>ham</td>\n",
              "      <td>Rofl. Its true to its name</td>\n",
              "    </tr>\n",
              "  </tbody>\n",
              "</table>\n",
              "</div>"
            ],
            "text/plain": [
              "        v1                                                 v2\n",
              "5567  spam  This is the 2nd time we have tried 2 contact u...\n",
              "5568   ham              Will Ì_ b going to esplanade fr home?\n",
              "5569   ham  Pity, * was in mood for that. So...any other s...\n",
              "5570   ham  The guy did some bitching but I acted like i'd...\n",
              "5571   ham                         Rofl. Its true to its name"
            ]
          },
          "metadata": {},
          "execution_count": 38
        }
      ]
    },
    {
      "cell_type": "code",
      "metadata": {
        "id": "BG93tjyqvOtR"
      },
      "source": [
        "#Import tensorflow dan test split library\n",
        "import tensorflow as tf\n",
        "from sklearn.model_selection import train_test_split"
      ],
      "execution_count": 39,
      "outputs": []
    },
    {
      "cell_type": "code",
      "metadata": {
        "id": "MlC4R7BCvZCV"
      },
      "source": [
        "# Proses one-hot-encoding karena data kategorikal dan membuat dataframe baru\n",
        "category = pd.get_dummies(df.v1)\n",
        "df_new = pd.concat([df, category], axis=1)\n",
        "df_new = df_new.drop(columns='v1')"
      ],
      "execution_count": 40,
      "outputs": []
    },
    {
      "cell_type": "code",
      "metadata": {
        "colab": {
          "base_uri": "https://localhost:8080/",
          "height": 419
        },
        "id": "Mq5QaYGhv1Ju",
        "outputId": "c45a5b1c-e7dc-4eac-991c-3c44c8ced169"
      },
      "source": [
        "#Cek\n",
        "df_new #Menampilkan 5 data awal&akhir pada dataframe baru"
      ],
      "execution_count": 41,
      "outputs": [
        {
          "output_type": "execute_result",
          "data": {
            "text/html": [
              "<div>\n",
              "<style scoped>\n",
              "    .dataframe tbody tr th:only-of-type {\n",
              "        vertical-align: middle;\n",
              "    }\n",
              "\n",
              "    .dataframe tbody tr th {\n",
              "        vertical-align: top;\n",
              "    }\n",
              "\n",
              "    .dataframe thead th {\n",
              "        text-align: right;\n",
              "    }\n",
              "</style>\n",
              "<table border=\"1\" class=\"dataframe\">\n",
              "  <thead>\n",
              "    <tr style=\"text-align: right;\">\n",
              "      <th></th>\n",
              "      <th>v2</th>\n",
              "      <th>ham</th>\n",
              "      <th>spam</th>\n",
              "    </tr>\n",
              "  </thead>\n",
              "  <tbody>\n",
              "    <tr>\n",
              "      <th>0</th>\n",
              "      <td>Go until jurong point, crazy.. Available only ...</td>\n",
              "      <td>1</td>\n",
              "      <td>0</td>\n",
              "    </tr>\n",
              "    <tr>\n",
              "      <th>1</th>\n",
              "      <td>Ok lar... Joking wif u oni...</td>\n",
              "      <td>1</td>\n",
              "      <td>0</td>\n",
              "    </tr>\n",
              "    <tr>\n",
              "      <th>2</th>\n",
              "      <td>Free entry in 2 a wkly comp to win FA Cup fina...</td>\n",
              "      <td>0</td>\n",
              "      <td>1</td>\n",
              "    </tr>\n",
              "    <tr>\n",
              "      <th>3</th>\n",
              "      <td>U dun say so early hor... U c already then say...</td>\n",
              "      <td>1</td>\n",
              "      <td>0</td>\n",
              "    </tr>\n",
              "    <tr>\n",
              "      <th>4</th>\n",
              "      <td>Nah I don't think he goes to usf, he lives aro...</td>\n",
              "      <td>1</td>\n",
              "      <td>0</td>\n",
              "    </tr>\n",
              "    <tr>\n",
              "      <th>...</th>\n",
              "      <td>...</td>\n",
              "      <td>...</td>\n",
              "      <td>...</td>\n",
              "    </tr>\n",
              "    <tr>\n",
              "      <th>5567</th>\n",
              "      <td>This is the 2nd time we have tried 2 contact u...</td>\n",
              "      <td>0</td>\n",
              "      <td>1</td>\n",
              "    </tr>\n",
              "    <tr>\n",
              "      <th>5568</th>\n",
              "      <td>Will Ì_ b going to esplanade fr home?</td>\n",
              "      <td>1</td>\n",
              "      <td>0</td>\n",
              "    </tr>\n",
              "    <tr>\n",
              "      <th>5569</th>\n",
              "      <td>Pity, * was in mood for that. So...any other s...</td>\n",
              "      <td>1</td>\n",
              "      <td>0</td>\n",
              "    </tr>\n",
              "    <tr>\n",
              "      <th>5570</th>\n",
              "      <td>The guy did some bitching but I acted like i'd...</td>\n",
              "      <td>1</td>\n",
              "      <td>0</td>\n",
              "    </tr>\n",
              "    <tr>\n",
              "      <th>5571</th>\n",
              "      <td>Rofl. Its true to its name</td>\n",
              "      <td>1</td>\n",
              "      <td>0</td>\n",
              "    </tr>\n",
              "  </tbody>\n",
              "</table>\n",
              "<p>5572 rows × 3 columns</p>\n",
              "</div>"
            ],
            "text/plain": [
              "                                                     v2  ham  spam\n",
              "0     Go until jurong point, crazy.. Available only ...    1     0\n",
              "1                         Ok lar... Joking wif u oni...    1     0\n",
              "2     Free entry in 2 a wkly comp to win FA Cup fina...    0     1\n",
              "3     U dun say so early hor... U c already then say...    1     0\n",
              "4     Nah I don't think he goes to usf, he lives aro...    1     0\n",
              "...                                                 ...  ...   ...\n",
              "5567  This is the 2nd time we have tried 2 contact u...    0     1\n",
              "5568              Will Ì_ b going to esplanade fr home?    1     0\n",
              "5569  Pity, * was in mood for that. So...any other s...    1     0\n",
              "5570  The guy did some bitching but I acted like i'd...    1     0\n",
              "5571                         Rofl. Its true to its name    1     0\n",
              "\n",
              "[5572 rows x 3 columns]"
            ]
          },
          "metadata": {},
          "execution_count": 41
        }
      ]
    },
    {
      "cell_type": "code",
      "metadata": {
        "id": "oYhp8q6qv-pH"
      },
      "source": [
        "#Mengubah nilai yang ada pada dataframe ke dalam tipe data numpy array menggunakan atribut values\n",
        "teks = df_new['v2'].values\n",
        "label = df_new[['ham', 'spam']].values"
      ],
      "execution_count": 42,
      "outputs": []
    },
    {
      "cell_type": "code",
      "metadata": {
        "id": "e86y-LNZwawH"
      },
      "source": [
        "#Membagi data train dan data testing\n",
        "teks_latih, teks_test, label_latih, label_test = train_test_split(teks, label, test_size=0.2)"
      ],
      "execution_count": 43,
      "outputs": []
    },
    {
      "cell_type": "code",
      "metadata": {
        "id": "CraSOUD8wjej"
      },
      "source": [
        "#Proses tokenization dan konversi sample menjadi sequence\n",
        "from tensorflow.keras.preprocessing.text import Tokenizer\n",
        "from tensorflow.keras.preprocessing.sequence import pad_sequences\n",
        " \n",
        "tokenizer = Tokenizer(num_words=5000, oov_token='x')\n",
        "tokenizer.fit_on_texts(teks_latih) \n",
        "tokenizer.fit_on_texts(teks_test)\n",
        " \n",
        "sekuens_latih = tokenizer.texts_to_sequences(teks_latih)\n",
        "sekuens_test = tokenizer.texts_to_sequences(teks_test)\n",
        " \n",
        "padded_latih = pad_sequences(sekuens_latih) \n",
        "padded_test = pad_sequences(sekuens_test)"
      ],
      "execution_count": 44,
      "outputs": []
    },
    {
      "cell_type": "code",
      "metadata": {
        "id": "mb82_H4iw9L1"
      },
      "source": [
        "#Setting model (layer,Embedding, LSTM) dan fungsi compile\n",
        "model = tf.keras.Sequential([\n",
        "    tf.keras.layers.Embedding(input_dim=5000, output_dim=16),\n",
        "    tf.keras.layers.LSTM(64),\n",
        "    tf.keras.layers.Dense(128, activation='relu'),\n",
        "    tf.keras.layers.Dense(64, activation='relu'),\n",
        "    tf.keras.layers.Dense(2, activation='softmax')\n",
        "])\n",
        "model.compile(loss='categorical_crossentropy',optimizer='adam',metrics=['accuracy'])"
      ],
      "execution_count": 45,
      "outputs": []
    },
    {
      "cell_type": "code",
      "metadata": {
        "colab": {
          "base_uri": "https://localhost:8080/"
        },
        "id": "3HrYw6QmxT6D",
        "outputId": "3da0950d-6fff-4643-d4b2-011487a86809"
      },
      "source": [
        "#Melatih model sebanyak 10x\n",
        "model.fit(padded_latih, \n",
        "          label_latih, \n",
        "          epochs=10, \n",
        "          validation_data=(padded_test, label_test), \n",
        "          verbose=2)"
      ],
      "execution_count": 46,
      "outputs": [
        {
          "output_type": "stream",
          "name": "stdout",
          "text": [
            "Epoch 1/10\n",
            "140/140 - 16s - loss: 0.2030 - accuracy: 0.9284 - val_loss: 0.0530 - val_accuracy: 0.9839\n",
            "Epoch 2/10\n",
            "140/140 - 13s - loss: 0.0307 - accuracy: 0.9906 - val_loss: 0.0441 - val_accuracy: 0.9874\n",
            "Epoch 3/10\n",
            "140/140 - 13s - loss: 0.0150 - accuracy: 0.9960 - val_loss: 0.0464 - val_accuracy: 0.9874\n",
            "Epoch 4/10\n",
            "140/140 - 13s - loss: 0.0071 - accuracy: 0.9982 - val_loss: 0.0459 - val_accuracy: 0.9910\n",
            "Epoch 5/10\n",
            "140/140 - 13s - loss: 0.0033 - accuracy: 0.9996 - val_loss: 0.0514 - val_accuracy: 0.9919\n",
            "Epoch 6/10\n",
            "140/140 - 13s - loss: 0.0019 - accuracy: 0.9998 - val_loss: 0.0649 - val_accuracy: 0.9901\n",
            "Epoch 7/10\n",
            "140/140 - 13s - loss: 0.0034 - accuracy: 0.9991 - val_loss: 0.0620 - val_accuracy: 0.9901\n",
            "Epoch 8/10\n",
            "140/140 - 13s - loss: 0.0021 - accuracy: 0.9996 - val_loss: 0.0648 - val_accuracy: 0.9928\n",
            "Epoch 9/10\n",
            "140/140 - 13s - loss: 0.0037 - accuracy: 0.9987 - val_loss: 0.0463 - val_accuracy: 0.9919\n",
            "Epoch 10/10\n",
            "140/140 - 13s - loss: 0.0019 - accuracy: 0.9996 - val_loss: 0.0657 - val_accuracy: 0.9883\n"
          ]
        },
        {
          "output_type": "execute_result",
          "data": {
            "text/plain": [
              "<keras.callbacks.History at 0x7f795c11e450>"
            ]
          },
          "metadata": {},
          "execution_count": 46
        }
      ]
    }
  ]
}